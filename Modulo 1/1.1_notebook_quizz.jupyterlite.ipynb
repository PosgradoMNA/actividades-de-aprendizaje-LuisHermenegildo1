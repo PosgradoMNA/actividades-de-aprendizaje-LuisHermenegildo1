{
  "metadata": {
    "kernelspec": {
      "name": "python",
      "display_name": "Pyolite",
      "language": "python"
    },
    "language_info": {
      "codemirror_mode": {
        "name": "python",
        "version": 3
      },
      "file_extension": ".py",
      "mimetype": "text/x-python",
      "name": "python",
      "nbconvert_exporter": "python",
      "pygments_lexer": "ipython3",
      "version": "3.8"
    },
    "colab": {
      "provenance": []
    }
  },
  "nbformat_minor": 0,
  "nbformat": 4,
  "cells": [
    {
      "cell_type": "markdown",
      "source": [
        "<center>\n",
        "    <img src=\"https://cf-courses-data.s3.us.cloud-object-storage.appdomain.cloud/IBMDeveloperSkillsNetwork-PY0101EN-SkillsNetwork/IDSNlogo.png\" width=\"300\" alt=\"cognitiveclass.ai logo\"  />\n",
        "</center>\n"
      ],
      "metadata": {
        "id": "2HqAfUgte5s3"
      }
    },
    {
      "cell_type": "markdown",
      "source": [
        "<h3>Hello World</h3>\n"
      ],
      "metadata": {
        "id": "sIkfaUjxe5s7"
      }
    },
    {
      "cell_type": "markdown",
      "source": [
        "Let's say hello to the world with a <code>PRINT</code> statement.\n"
      ],
      "metadata": {
        "id": "WpGSATO7e5s8"
      }
    },
    {
      "cell_type": "code",
      "source": [
        "print(\"Hello World\")"
      ],
      "metadata": {
        "trusted": true,
        "id": "g8GxiHnqe5s8",
        "outputId": "bcfb4ab5-8a42-4b55-e4a9-0119fd4e8043",
        "colab": {
          "base_uri": "https://localhost:8080/"
        }
      },
      "execution_count": 1,
      "outputs": [
        {
          "output_type": "stream",
          "name": "stdout",
          "text": [
            "Hello World\n"
          ]
        }
      ]
    },
    {
      "cell_type": "markdown",
      "source": [
        "<details><summary>Click here for the solution</summary>\n",
        "\n",
        "```python\n",
        "print(\"Hello World\")\n",
        "```\n",
        "\n",
        "</details>\n"
      ],
      "metadata": {
        "id": "ccTXxMhbe5s9"
      }
    },
    {
      "cell_type": "markdown",
      "source": [
        "<h3>Say \"Hello World\" on Two Lines</h3> \n"
      ],
      "metadata": {
        "id": "qxA5CHDxe5s-"
      }
    },
    {
      "cell_type": "markdown",
      "source": [
        "Let's print \"Hello\" and \"World\" on two separate lines. Hint: \\n in the middle of the string acts as a new line character.\n"
      ],
      "metadata": {
        "id": "z1lzieLCe5s_"
      }
    },
    {
      "cell_type": "code",
      "source": [
        "print(\"Hello\\nWorld\")"
      ],
      "metadata": {
        "trusted": true,
        "id": "TMusVTAIe5tA",
        "outputId": "ca53707c-b1ea-475b-fc41-109db880a077",
        "colab": {
          "base_uri": "https://localhost:8080/"
        }
      },
      "execution_count": 2,
      "outputs": [
        {
          "output_type": "stream",
          "name": "stdout",
          "text": [
            "Hello\n",
            "World\n"
          ]
        }
      ]
    },
    {
      "cell_type": "markdown",
      "source": [
        "<details><summary>Click here for the solution</summary>\n",
        "\n",
        "```python\n",
        "print(\"Hello\\nWorld\")\n",
        "```\n",
        "\n",
        "</details>\n"
      ],
      "metadata": {
        "id": "2j_YMshie5tA"
      }
    },
    {
      "cell_type": "markdown",
      "source": [
        "<h3>Comments Are Key to Good Coding</h3> \n"
      ],
      "metadata": {
        "id": "GEhKAbtfe5tB"
      }
    },
    {
      "cell_type": "markdown",
      "source": [
        "In Python, comments are created by putting a hash mark <code>#</code> in front of the text of the comment.\n"
      ],
      "metadata": {
        "id": "2LooCq32e5tC"
      }
    },
    {
      "cell_type": "code",
      "source": [
        "# this is a comment"
      ],
      "metadata": {
        "trusted": true,
        "id": "daf5Q8AHe5tD"
      },
      "execution_count": 3,
      "outputs": []
    },
    {
      "cell_type": "markdown",
      "source": [
        "<details><summary>Click here for the solution</summary>\n",
        "\n",
        "```python\n",
        "# this is a comment\n",
        "```\n",
        "\n",
        "</details>\n"
      ],
      "metadata": {
        "id": "ic6hpKGYe5tD"
      }
    },
    {
      "cell_type": "markdown",
      "source": [
        "<hr>\n",
        "\n",
        "<h3 align=\"center\"> © IBM Corporation 2020. All rights reserved. <h3/>\n"
      ],
      "metadata": {
        "id": "I1nd92rDe5tD"
      }
    }
  ]
}