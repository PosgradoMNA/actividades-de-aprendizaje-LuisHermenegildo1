{
  "nbformat": 4,
  "nbformat_minor": 0,
  "metadata": {
    "colab": {
      "name": "assignment01.ipynb",
      "provenance": [],
      "include_colab_link": true
    },
    "kernelspec": {
      "name": "python3",
      "display_name": "Python 3"
    },
    "language_info": {
      "name": "python"
    }
  },
  "cells": [
    {
      "cell_type": "markdown",
      "metadata": {
        "id": "view-in-github",
        "colab_type": "text"
      },
      "source": [
        "<a href=\"https://colab.research.google.com/github/PosgradoMNA/actividades-de-aprendizaje-LuisHermenegildo1/blob/main/PythonCourse_Module_1_2.ipynb\" target=\"_parent\"><img src=\"https://colab.research.google.com/assets/colab-badge.svg\" alt=\"Open In Colab\"/></a>"
      ]
    },
    {
      "cell_type": "markdown",
      "source": [
        "#Semana 1\n",
        "#Master en Big Data"
      ],
      "metadata": {
        "id": "JBUEtfdvQvvG"
      }
    },
    {
      "cell_type": "markdown",
      "source": [],
      "metadata": {
        "id": "xp9g9vBrUBfE"
      }
    },
    {
      "cell_type": "markdown",
      "source": [
        "Using the Practice Lab, find the result of executing print(\"Hello\\nWorld!\") statement."
      ],
      "metadata": {
        "id": "viNFE_h1S3PR"
      }
    },
    {
      "cell_type": "code",
      "source": [
        "print(\"Hello world\\nWorld Big Data Class\")"
      ],
      "metadata": {
        "id": "mxM_WppZPMFx",
        "outputId": "564fa3f7-061f-49bc-e89c-e15695616ded",
        "colab": {
          "base_uri": "https://localhost:8080/"
        }
      },
      "execution_count": null,
      "outputs": [
        {
          "output_type": "stream",
          "name": "stdout",
          "text": [
            "Hello world\n",
            "Big Data Class\n"
          ]
        }
      ]
    },
    {
      "cell_type": "markdown",
      "source": [
        "What is the output of executing the following statement: # print('Hello World!')?"
      ],
      "metadata": {
        "id": "Izq9aLOxUJut"
      }
    },
    {
      "cell_type": "code",
      "source": [
        "# print('Hello World!')"
      ],
      "metadata": {
        "id": "FXj0VtM6UOGO"
      },
      "execution_count": null,
      "outputs": []
    },
    {
      "cell_type": "markdown",
      "source": [
        "Types"
      ],
      "metadata": {
        "id": "6wzh6GhiTEec"
      }
    },
    {
      "cell_type": "markdown",
      "source": [
        "What is the type of the following: int(1.0)?"
      ],
      "metadata": {
        "id": "BFccNzXKTtmB"
      }
    },
    {
      "cell_type": "code",
      "source": [
        " type(int(1.0))"
      ],
      "metadata": {
        "id": "Rv_m7_GnTJjv",
        "outputId": "eb0e6b8a-0f9b-4b21-9f59-326becfc9ff0",
        "colab": {
          "base_uri": "https://localhost:8080/"
        }
      },
      "execution_count": null,
      "outputs": [
        {
          "output_type": "execute_result",
          "data": {
            "text/plain": [
              "int"
            ]
          },
          "metadata": {},
          "execution_count": 6
        }
      ]
    },
    {
      "cell_type": "markdown",
      "source": [
        "Is a Number Always a Number? \n",
        "Cast the following to an int and then to a bool:"
      ],
      "metadata": {
        "id": "caZJWIdMTp78"
      }
    },
    {
      "cell_type": "code",
      "source": [
        "\n",
        "bool(int(\"1\"))"
      ],
      "metadata": {
        "id": "8rFWwIXhTg0e",
        "outputId": "93a34b25-5abe-4334-e2d7-6b1e7c41a6a2",
        "colab": {
          "base_uri": "https://localhost:8080/"
        }
      },
      "execution_count": null,
      "outputs": [
        {
          "output_type": "execute_result",
          "data": {
            "text/plain": [
              "True"
            ]
          },
          "metadata": {},
          "execution_count": 7
        }
      ]
    },
    {
      "cell_type": "markdown",
      "source": [
        "Consider the following string:\n",
        "\n",
        "Numbers = \"0123456\"\n",
        "How would you obtain the even elements?"
      ],
      "metadata": {
        "id": "pENRivnhhyIP"
      }
    },
    {
      "cell_type": "code",
      "source": [
        "Numbers = \"0123456\"\n",
        "print(Numbers[::2])"
      ],
      "metadata": {
        "id": "GGXC0ubmh7oH",
        "outputId": "46202f6d-561e-4359-f183-b5513b53750b",
        "colab": {
          "base_uri": "https://localhost:8080/"
        }
      },
      "execution_count": null,
      "outputs": [
        {
          "output_type": "stream",
          "name": "stdout",
          "text": [
            "0246\n"
          ]
        }
      ]
    },
    {
      "cell_type": "markdown",
      "source": [
        "What is the result of the following line of code:\n",
        "\n",
        "\"0123456\".find('1')"
      ],
      "metadata": {
        "id": "dtEfRmyciGhR"
      }
    },
    {
      "cell_type": "code",
      "source": [
        "\"0123456\".find('1')"
      ],
      "metadata": {
        "id": "HNeAIYaYiHsx",
        "outputId": "ed222737-4573-46b0-879e-3dd0f32aa90f",
        "colab": {
          "base_uri": "https://localhost:8080/"
        }
      },
      "execution_count": null,
      "outputs": [
        {
          "output_type": "execute_result",
          "data": {
            "text/plain": [
              "1"
            ]
          },
          "metadata": {},
          "execution_count": 10
        }
      ]
    },
    {
      "cell_type": "code",
      "source": [
        "name = 'Lizz'\n",
        "print(name[0:2])"
      ],
      "metadata": {
        "id": "YO2Yf5epi36r",
        "outputId": "a5640731-62a6-4a73-f8b2-fb959e466226",
        "colab": {
          "base_uri": "https://localhost:8080/"
        }
      },
      "execution_count": null,
      "outputs": [
        {
          "output_type": "stream",
          "name": "stdout",
          "text": [
            "Li\n"
          ]
        }
      ]
    },
    {
      "cell_type": "code",
      "source": [
        "'1'+'2'"
      ],
      "metadata": {
        "id": "LuVMfAt4jJrf",
        "outputId": "75f18b6c-ffff-41b7-ff90-88d5694d093e",
        "colab": {
          "base_uri": "https://localhost:8080/",
          "height": 35
        }
      },
      "execution_count": null,
      "outputs": [
        {
          "output_type": "execute_result",
          "data": {
            "text/plain": [
              "'12'"
            ],
            "application/vnd.google.colaboratory.intrinsic+json": {
              "type": "string"
            }
          },
          "metadata": {},
          "execution_count": 12
        }
      ]
    },
    {
      "cell_type": "markdown",
      "source": [
        "How do you access the last element of the following tuple: A=(0,1,2,3)? Select all possible correct answers"
      ],
      "metadata": {
        "id": "PfKx-6aznzTY"
      }
    },
    {
      "cell_type": "code",
      "source": [
        "A=(0,1,2,3)\n",
        "print(A[-1])\n",
        "print(A[3])"
      ],
      "metadata": {
        "id": "iwBUOtC1nXlK",
        "outputId": "fefe1977-1f4d-4ac3-8fb7-f6f866c0456a",
        "colab": {
          "base_uri": "https://localhost:8080/"
        }
      },
      "execution_count": null,
      "outputs": [
        {
          "output_type": "stream",
          "name": "stdout",
          "text": [
            "3\n",
            "3\n"
          ]
        }
      ]
    },
    {
      "cell_type": "markdown",
      "source": [
        "QUESTION 2\n",
        "1/1 point (ungraded)\n",
        "Consider the list: B=[\"a\",\"b\",\"c\"].\n",
        "\n",
        "What is the result of the following B[1:]?"
      ],
      "metadata": {
        "id": "QuBHZHV-n1Bq"
      }
    },
    {
      "cell_type": "code",
      "source": [
        "B=[\"a\",\"b\",\"c\"]\n",
        "print(B[1:])"
      ],
      "metadata": {
        "id": "ou3j-zWrn4GS",
        "outputId": "dfb88222-2aa6-43b7-d403-1732e2c417c7",
        "colab": {
          "base_uri": "https://localhost:8080/"
        }
      },
      "execution_count": null,
      "outputs": [
        {
          "output_type": "stream",
          "name": "stdout",
          "text": [
            "['b', 'c']\n"
          ]
        }
      ]
    },
    {
      "cell_type": "markdown",
      "source": [
        "PREGUNTA 1\n",
        "1 punto posible (sin calificar)\n",
        "Considere el siguiente diccionario:\n",
        "\n",
        "D = {'a':0,'b':1,'c':2}\n",
        "\n",
        "¿Cuál es el resultado de lo siguiente: D.values()?"
      ],
      "metadata": {
        "id": "nS6nz_I9zE1i"
      }
    },
    {
      "cell_type": "code",
      "source": [
        "D = {'a':0,'b':1,'c':2}\n",
        "D.values()"
      ],
      "metadata": {
        "id": "H_Tc95LDzGU_",
        "outputId": "71c2b9cd-e6a7-4598-98a3-cd192f247187",
        "colab": {
          "base_uri": "https://localhost:8080/"
        }
      },
      "execution_count": null,
      "outputs": [
        {
          "output_type": "execute_result",
          "data": {
            "text/plain": [
              "dict_values([0, 1, 2])"
            ]
          },
          "metadata": {},
          "execution_count": 17
        }
      ]
    },
    {
      "cell_type": "markdown",
      "source": [
        "Examen Modulo 2"
      ],
      "metadata": {
        "id": "SsEmYr0d1TA2"
      }
    },
    {
      "cell_type": "markdown",
      "source": [
        "Question 1\n",
        "1 point possible (graded)\n",
        "What is the syntax used to obtain the first element of the tuple:\n",
        "\n",
        "A = ('a','b','c')"
      ],
      "metadata": {
        "id": "VbNmWtOH1WxD"
      }
    },
    {
      "cell_type": "code",
      "source": [
        "A = ('a','b','c')\n",
        "A[0]"
      ],
      "metadata": {
        "id": "pv6thxJe1VWc",
        "outputId": "6cb1c463-6c23-4845-8261-113c020de778",
        "colab": {
          "base_uri": "https://localhost:8080/",
          "height": 35
        }
      },
      "execution_count": 1,
      "outputs": [
        {
          "output_type": "execute_result",
          "data": {
            "text/plain": [
              "'a'"
            ],
            "application/vnd.google.colaboratory.intrinsic+json": {
              "type": "string"
            }
          },
          "metadata": {},
          "execution_count": 1
        }
      ]
    },
    {
      "cell_type": "markdown",
      "source": [
        "Question 4\n",
        "1 point possible (graded)\n",
        "Consider the following Python dictionary:\n",
        "\n",
        "Dict={\"A\":1,\"B\":\"2\",\"C\":[3,3,3],\"D\":(4,4,4),'E':5,'F':6}\n",
        "\n",
        "What is the result of the following operation: Dict[\"D\"]?"
      ],
      "metadata": {
        "id": "wpSomu2b13Tp"
      }
    },
    {
      "cell_type": "code",
      "source": [
        "Dict={\"A\":1,\"B\":\"2\",\"C\":[3,3,3],\"D\":(4,4,4),'E':5,'F':6}\n",
        "\n",
        "Dict[\"D\"]"
      ],
      "metadata": {
        "id": "Sd4SkxuV14vm",
        "outputId": "a6053a5a-2465-4cf4-8a3a-9b69c0b0f37f",
        "colab": {
          "base_uri": "https://localhost:8080/"
        }
      },
      "execution_count": 2,
      "outputs": [
        {
          "output_type": "execute_result",
          "data": {
            "text/plain": [
              "(4, 4, 4)"
            ]
          },
          "metadata": {},
          "execution_count": 2
        }
      ]
    }
  ]
}