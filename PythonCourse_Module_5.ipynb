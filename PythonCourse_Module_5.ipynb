{
  "nbformat": 4,
  "nbformat_minor": 0,
  "metadata": {
    "colab": {
      "name": "assignment01.ipynb",
      "provenance": [],
      "include_colab_link": true
    },
    "kernelspec": {
      "name": "python3",
      "display_name": "Python 3"
    },
    "language_info": {
      "name": "python"
    }
  },
  "cells": [
    {
      "cell_type": "markdown",
      "metadata": {
        "id": "view-in-github",
        "colab_type": "text"
      },
      "source": [
        "<a href=\"https://colab.research.google.com/github/PosgradoMNA/actividades-de-aprendizaje-LuisHermenegildo1/blob/main/PythonCourse_Module_5.ipynb\" target=\"_parent\"><img src=\"https://colab.research.google.com/assets/colab-badge.svg\" alt=\"Open In Colab\"/></a>"
      ]
    },
    {
      "cell_type": "markdown",
      "source": [
        "**Modulo 5**\n",
        "\n",
        "**Ciencia de datos**"
      ],
      "metadata": {
        "id": "8rDZ-f_bcl8K"
      }
    },
    {
      "cell_type": "code",
      "execution_count": 2,
      "metadata": {
        "id": "LzUSMM79NR9P",
        "outputId": "51842893-70b8-4929-d00e-c0fe5232ec29",
        "colab": {
          "base_uri": "https://localhost:8080/"
        }
      },
      "outputs": [
        {
          "output_type": "execute_result",
          "data": {
            "text/plain": [
              "array([ 1, -1])"
            ]
          },
          "metadata": {},
          "execution_count": 2
        }
      ],
      "source": [
        "import numpy as np\n",
        "\n",
        "np.array([1,-1])*np.array([1,1])"
      ]
    },
    {
      "cell_type": "code",
      "source": [
        "np.dot(np.array([1,-1]),np.array([1,1]))"
      ],
      "metadata": {
        "id": "mxM_WppZPMFx",
        "outputId": "ba8c4fc2-7c91-4b21-82d4-2635919c3c9a",
        "colab": {
          "base_uri": "https://localhost:8080/"
        }
      },
      "execution_count": 3,
      "outputs": [
        {
          "output_type": "execute_result",
          "data": {
            "text/plain": [
              "0"
            ]
          },
          "metadata": {},
          "execution_count": 3
        }
      ]
    },
    {
      "cell_type": "code",
      "source": [
        "a = [[1,2,3],[4,5,6],[6,3,4]]\n",
        "A = np.array(a)\n",
        "A"
      ],
      "metadata": {
        "id": "34nvw3inmb28",
        "outputId": "dfc29da8-568b-4261-8782-190f50feaa66",
        "colab": {
          "base_uri": "https://localhost:8080/"
        }
      },
      "execution_count": 4,
      "outputs": [
        {
          "output_type": "execute_result",
          "data": {
            "text/plain": [
              "array([[1, 2, 3],\n",
              "       [4, 5, 6],\n",
              "       [6, 3, 4]])"
            ]
          },
          "metadata": {},
          "execution_count": 4
        }
      ]
    },
    {
      "cell_type": "code",
      "source": [
        "A.ndim"
      ],
      "metadata": {
        "id": "yZYiar09mnXe",
        "outputId": "b367bf59-dd9b-4a66-9c83-b4acd1de46b8",
        "colab": {
          "base_uri": "https://localhost:8080/"
        }
      },
      "execution_count": 5,
      "outputs": [
        {
          "output_type": "execute_result",
          "data": {
            "text/plain": [
              "2"
            ]
          },
          "metadata": {},
          "execution_count": 5
        }
      ]
    },
    {
      "cell_type": "code",
      "source": [
        "A.shape"
      ],
      "metadata": {
        "id": "5l_SU-hMmwcq",
        "outputId": "cb4d5b2a-e58b-490f-bd59-245df0f9d409",
        "colab": {
          "base_uri": "https://localhost:8080/"
        }
      },
      "execution_count": 6,
      "outputs": [
        {
          "output_type": "execute_result",
          "data": {
            "text/plain": [
              "(3, 3)"
            ]
          },
          "metadata": {},
          "execution_count": 6
        }
      ]
    },
    {
      "cell_type": "code",
      "source": [
        "A.size  "
      ],
      "metadata": {
        "id": "8gf3_Sxzm-K4",
        "outputId": "315a79b0-ad1f-4538-ca8f-64745eef17b8",
        "colab": {
          "base_uri": "https://localhost:8080/"
        }
      },
      "execution_count": 7,
      "outputs": [
        {
          "output_type": "execute_result",
          "data": {
            "text/plain": [
              "9"
            ]
          },
          "metadata": {},
          "execution_count": 7
        }
      ]
    },
    {
      "cell_type": "code",
      "source": [
        "A = np.array([[1,2],[3,4],[5,6],[7,8]])\n",
        "A.size"
      ],
      "metadata": {
        "id": "5Dw3FNnqnTls",
        "outputId": "bed6603d-bd2d-465c-8753-ebe425294b1f",
        "colab": {
          "base_uri": "https://localhost:8080/"
        }
      },
      "execution_count": 8,
      "outputs": [
        {
          "output_type": "execute_result",
          "data": {
            "text/plain": [
              "8"
            ]
          },
          "metadata": {},
          "execution_count": 8
        }
      ]
    },
    {
      "cell_type": "code",
      "source": [
        "##ERROR##\n",
        "A = np.array([[1,2],[3,4],[5,6],[7,8]])\n",
        "\n",
        "B = np.array([[1,2,3],[4,5,6],[7,8,9]])\n",
        "\n",
        "#np.dot(A,B)"
      ],
      "metadata": {
        "id": "N8lXu0Min3hF"
      },
      "execution_count": 9,
      "outputs": []
    },
    {
      "cell_type": "markdown",
      "source": [
        "What is the result of the following lines of code:"
      ],
      "metadata": {
        "id": "9toBvnodH4LS"
      }
    },
    {
      "cell_type": "code",
      "source": [
        "a=np.array([0,1,0,1,0])\n",
        "\n",
        "b=np.array([1,0,1,0,1])\n",
        "\n",
        "a*b"
      ],
      "metadata": {
        "id": "uFiBnNKDHpwM",
        "outputId": "6813dbf4-0dbf-471e-f36c-84433982e71c",
        "colab": {
          "base_uri": "https://localhost:8080/"
        }
      },
      "execution_count": 10,
      "outputs": [
        {
          "output_type": "execute_result",
          "data": {
            "text/plain": [
              "array([0, 0, 0, 0, 0])"
            ]
          },
          "metadata": {},
          "execution_count": 10
        }
      ]
    },
    {
      "cell_type": "markdown",
      "source": [
        "What is the result of the following lines of code:\n"
      ],
      "metadata": {
        "id": "q7EZE9GxH2eh"
      }
    },
    {
      "cell_type": "code",
      "source": [
        "a=np.array([0,1])\n",
        "\n",
        "b=np.array([1,0])\n",
        "\n",
        "np.dot(a,b)"
      ],
      "metadata": {
        "id": "MrJ8P_V5HzR3",
        "outputId": "fa9dcbac-ffa8-45fe-8063-4c2e0580838a",
        "colab": {
          "base_uri": "https://localhost:8080/"
        }
      },
      "execution_count": 11,
      "outputs": [
        {
          "output_type": "execute_result",
          "data": {
            "text/plain": [
              "0"
            ]
          },
          "metadata": {},
          "execution_count": 11
        }
      ]
    },
    {
      "cell_type": "code",
      "source": [
        "a=np.array([1,1,1,1,1])\n",
        "\n",
        "a+10"
      ],
      "metadata": {
        "id": "5TOkaKWOH9F6",
        "outputId": "56778b13-21f4-4ce4-ba5b-5f711c93da9c",
        "colab": {
          "base_uri": "https://localhost:8080/"
        }
      },
      "execution_count": 12,
      "outputs": [
        {
          "output_type": "execute_result",
          "data": {
            "text/plain": [
              "array([11, 11, 11, 11, 11])"
            ]
          },
          "metadata": {},
          "execution_count": 12
        }
      ]
    }
  ]
}